{
 "cells": [
  {
   "cell_type": "code",
   "execution_count": 13,
   "id": "2cb82d7c-344c-45dd-a736-3312a1bd7ea3",
   "metadata": {},
   "outputs": [],
   "source": [
    "import requests "
   ]
  },
  {
   "cell_type": "code",
   "execution_count": 14,
   "id": "07db8a9c-382c-4f64-997d-60169f625602",
   "metadata": {},
   "outputs": [],
   "source": [
    "dog = requests.get('https://dog.ceo/api/breeds/list/all')"
   ]
  },
  {
   "cell_type": "code",
   "execution_count": 15,
   "id": "09bbde6d-800d-4351-b5db-d1173a6c7180",
   "metadata": {},
   "outputs": [
    {
     "data": {
      "text/plain": [
       "'https://dog.ceo/api/breeds/list/all'"
      ]
     },
     "execution_count": 15,
     "metadata": {},
     "output_type": "execute_result"
    }
   ],
   "source": [
    "dog.url"
   ]
  },
  {
   "cell_type": "code",
   "execution_count": 16,
   "id": "a0626b00-ce1a-49bf-a8d1-a24e1afdbebd",
   "metadata": {},
   "outputs": [
    {
     "data": {
      "text/plain": [
       "200"
      ]
     },
     "execution_count": 16,
     "metadata": {},
     "output_type": "execute_result"
    }
   ],
   "source": [
    "dog.status_code"
   ]
  },
  {
   "cell_type": "code",
   "execution_count": 17,
   "id": "9adbdcf4-d090-4c24-a0e2-195fb81b60a7",
   "metadata": {},
   "outputs": [],
   "source": [
    "python_dict = dog.json()"
   ]
  },
  {
   "cell_type": "code",
   "execution_count": 18,
   "id": "a11a08b6-82d2-40ba-b8e1-b88119519550",
   "metadata": {},
   "outputs": [
    {
     "data": {
      "text/plain": [
       "dict"
      ]
     },
     "execution_count": 18,
     "metadata": {},
     "output_type": "execute_result"
    }
   ],
   "source": [
    "type(python_dict)"
   ]
  },
  {
   "cell_type": "raw",
   "id": "3ba4a6a4-2f10-4772-a0dc-99923982fd6a",
   "metadata": {},
   "source": [
    "Hound sub-breeds\n",
    "Print all sub-breeds of hound by making a get request to given URL.\n",
    "URL : https://dog.ceo/api/breeds/list/all\n",
    "Print name of sub-breeds in different lines."
   ]
  },
  {
   "cell_type": "code",
   "execution_count": 19,
   "id": "0f812632-0363-4acd-b5a2-a9c56f2133b6",
   "metadata": {},
   "outputs": [
    {
     "name": "stdout",
     "output_type": "stream",
     "text": [
      "afghan\n",
      "basset\n",
      "blood\n",
      "english\n",
      "ibizan\n",
      "plott\n",
      "walker\n"
     ]
    }
   ],
   "source": [
    "for i in python_dict['message']['hound']:\n",
    "    print(i)"
   ]
  },
  {
   "cell_type": "raw",
   "id": "f328e16a-84cf-4405-b2d7-a8f0b2886865",
   "metadata": {},
   "source": [
    "Poodle sub breeds count\n",
    "Print the count of total sub-breeds of poodle from this URL."
   ]
  },
  {
   "cell_type": "code",
   "execution_count": 20,
   "id": "b0b0add8-a6f3-47a4-946d-04657f062124",
   "metadata": {},
   "outputs": [
    {
     "data": {
      "text/plain": [
       "4"
      ]
     },
     "execution_count": 20,
     "metadata": {},
     "output_type": "execute_result"
    }
   ],
   "source": [
    "len(python_dict['message']['poodle'])"
   ]
  },
  {
   "cell_type": "raw",
   "id": "f5088129-31e7-4e22-8fa0-2b29a809b700",
   "metadata": {},
   "source": [
    "CN Online Courses\n",
    "Print name of all online courses offered by Coding Ninjas. You can fetch the data using their open API :\n",
    "https://api.codingninjas.com/api/v3/courses ."
   ]
  },
  {
   "cell_type": "code",
   "execution_count": 21,
   "id": "a98538a9-5812-4dad-bf7c-b74ba626e56c",
   "metadata": {},
   "outputs": [],
   "source": [
    "coding = requests.get('https://api.codingninjas.com/api/v3/courses')"
   ]
  },
  {
   "cell_type": "code",
   "execution_count": 22,
   "id": "2a6e3d7e-d601-4562-b524-5ca21d194131",
   "metadata": {},
   "outputs": [],
   "source": [
    "python_dict = coding.json()"
   ]
  },
  {
   "cell_type": "code",
   "execution_count": 23,
   "id": "72ea8194-c4ff-40fd-b1b6-1a75b1a0de86",
   "metadata": {},
   "outputs": [
    {
     "data": {
      "text/plain": [
       "25"
      ]
     },
     "execution_count": 23,
     "metadata": {},
     "output_type": "execute_result"
    }
   ],
   "source": [
    "l = 0\n",
    "for i in python_dict['data']['courses']:\n",
    "    if i['available_online'] == True:\n",
    "        l += 1\n",
    "l"
   ]
  },
  {
   "cell_type": "raw",
   "id": "c4146ef3-99a1-4082-86bb-124147579b04",
   "metadata": {},
   "source": [
    "Workshop Events\n",
    "Send Feedback\n",
    "Print description of first event from Coding Ninjas Events API\n",
    "If ther are no events in this API, then print \"No Events !\"\n",
    "Data can be fetched from this URL :\n",
    "Coding Ninjas Events API"
   ]
  },
  {
   "cell_type": "code",
   "execution_count": 24,
   "id": "999d65e8-28a6-445d-9b22-8580972951f9",
   "metadata": {},
   "outputs": [],
   "source": [
    "    events = requests.get('https://api.codingninjas.com/api/v3/events?event_category=ALL_EVENTS&event_sub_category=All%20Time%20Favorites&tag_list=&offset=0&_ga=2.45753249.484399197.1665910016-1795907818.1664341741')"
   ]
  },
  {
   "cell_type": "code",
   "execution_count": 25,
   "id": "4c1143be-b1c1-4539-b25a-ff1d8f259b49",
   "metadata": {},
   "outputs": [],
   "source": [
    "events = events.json()"
   ]
  },
  {
   "cell_type": "code",
   "execution_count": 26,
   "id": "4e68e34f-288f-4d84-b1dc-49955bc51499",
   "metadata": {},
   "outputs": [
    {
     "name": "stdout",
     "output_type": "stream",
     "text": [
      "Ninjas Career Camp Entrance Test is coming up on 16th June, from 12 AM onwards\n"
     ]
    }
   ],
   "source": [
    "for i in events['data']['events']:\n",
    "    print(i['short_desc'])\n",
    "    break"
   ]
  },
  {
   "cell_type": "code",
   "execution_count": 27,
   "id": "ebda5b1c-9db6-4de5-8508-fbf791c6a5a0",
   "metadata": {},
   "outputs": [],
   "source": [
    "cities = requests.get('https://api.openaq.org/v2/cities')"
   ]
  },
  {
   "cell_type": "code",
   "execution_count": 28,
   "id": "885df9e4-3a25-4bf7-bbd5-11f117bb90ee",
   "metadata": {},
   "outputs": [
    {
     "data": {
      "text/plain": [
       "<Response [200]>"
      ]
     },
     "execution_count": 28,
     "metadata": {},
     "output_type": "execute_result"
    }
   ],
   "source": [
    "cities"
   ]
  },
  {
   "cell_type": "code",
   "execution_count": 29,
   "id": "c9ebb2ab-4046-4075-bc55-8b70cb24d87f",
   "metadata": {},
   "outputs": [],
   "source": [
    "cities = cities.json()"
   ]
  },
  {
   "cell_type": "code",
   "execution_count": 30,
   "id": "0082ce49-e6d3-4e3b-a92f-c0db851108e5",
   "metadata": {},
   "outputs": [
    {
     "name": "stdout",
     "output_type": "stream",
     "text": [
      "007\n",
      "019\n",
      "037\n",
      "039\n",
      "047\n",
      "051\n",
      "077\n",
      "Aargau\n",
      "Abasolo\n",
      "ABBEVILLE\n",
      "Aberdeen\n",
      "Aberdeen\n",
      "Abidjan\n",
      "Abu Dhabi\n",
      "Accra\n",
      "A Coruña\n",
      "ADA\n",
      "ADAIR\n",
      "ADAMS\n",
      "Adana\n",
      "Addis Ababa\n",
      "Adelaide\n",
      "Adrian\n",
      "Adur\n",
      "Aerodrom Municipality\n",
      "Agartala\n",
      "Agra\n",
      "Ağrı\n",
      "Aguascalientes\n",
      "Ahmedabad\n",
      "Ain\n",
      "AIR BREIZH\n",
      "AIR NORMAND\n",
      "AIR PACA\n",
      "AIRPARIF\n",
      "AIR PAYS DE LA LOIRE\n",
      "AIR RHONE ALPES\n",
      "Aisne\n",
      "Aizawl\n",
      "Ajmer\n",
      "Akron\n",
      "Akureyri\n",
      "ALACHUA\n",
      "ALAMEDA\n",
      "Alba\n",
      "Albacete\n",
      "Albany\n",
      "Albany-Lebanon\n",
      "Albany-Schenectady-Troy\n",
      "ALBERTA\n",
      "Albuquerque\n",
      "Alessandria\n",
      "Ålesund\n",
      "ALEXANDER\n",
      "ALFONSINE\n",
      "Alfred Nzo\n",
      "Alfredton Fire\n",
      "Algiers\n",
      "Alicante/Alacant\n",
      "Allegan\n",
      "ALLEGANY\n",
      "Allentown-Bethlehem-Easton\n",
      "Allier\n",
      "Almeria\n",
      "Almería\n",
      "Almoloya de Juárez\n",
      "Alpes-de-Haute-Provence\n",
      "Alpes-Maritimes\n",
      "Alto Hospicio\n",
      "Altona North\n",
      "Altona North 1\n",
      "Altona North 2\n",
      "Altoona\n",
      "Álvaro Obregón\n",
      "Alwar\n",
      "Alytus\n",
      "AMADOR\n",
      "Amaravati\n",
      "Amarillo\n",
      "Amasya\n",
      "Ambala\n",
      "Americana\n",
      "Americus\n",
      "Ames\n",
      "Amman\n",
      "Amnat Charoen\n",
      "Amritsar\n",
      "Amsterdam\n",
      "Amt der K�rntner Landesregierung\n",
      "Amt der Nieder�sterreichischen Landesregierung\n",
      "Amt der Ober�sterreichischen Landesregierung\n",
      "Amt der Salzburger Landesregierung\n",
      "Amt der Steierm�rkischen Landesregierung\n",
      "Anantapur\n",
      "Anchorage\n",
      "ANCHORAGE\n",
      "Ancona\n",
      "Andacollo\n",
      "Anderson\n",
      "ANDERSON\n"
     ]
    }
   ],
   "source": [
    "for i in cities['results']:\n",
    "    print(i['city'])"
   ]
  },
  {
   "cell_type": "code",
   "execution_count": 31,
   "id": "6856b9f2-58f1-4bc5-b6b8-5ef6a676a344",
   "metadata": {},
   "outputs": [],
   "source": [
    "cities = requests.get('https://api.openaq.org/v2/cities', params={\"country\":\"AE\"})"
   ]
  },
  {
   "cell_type": "code",
   "execution_count": 32,
   "id": "224bfda0-608e-4b7e-a0f9-94e6ede0c2a9",
   "metadata": {},
   "outputs": [
    {
     "data": {
      "text/plain": [
       "'https://api.openaq.org/v2/cities?country=AE'"
      ]
     },
     "execution_count": 32,
     "metadata": {},
     "output_type": "execute_result"
    }
   ],
   "source": [
    "cities.text\n",
    "cities.url"
   ]
  },
  {
   "cell_type": "raw",
   "id": "e91cb41a-f1c3-4738-ad23-a9ac15930979",
   "metadata": {},
   "source": [
    "Title of course\n",
    "Print the title of course with id=19.\n",
    "URL : http://api.codingninjas.com/api/v3/courses"
   ]
  },
  {
   "cell_type": "code",
   "execution_count": null,
   "id": "759d0fcf-053d-46af-9ff4-62d6fc0f498a",
   "metadata": {},
   "outputs": [],
   "source": [
    "course = req.get('http://api.codingninjas.com/api/v3/courses', params={\"id\":19})\n",
    "python = course.json()\n",
    "\n",
    "for i in python['data']['courses']:\n",
    "    if i['id'] == 19:\n",
    "        print(i['title'])"
   ]
  },
  {
   "cell_type": "raw",
   "id": "d6980814-e6be-4992-ad86-88b02cf7c408",
   "metadata": {},
   "source": [
    "Total number of cities\n",
    "Send Feedback\n",
    "Count the total number of cities of country AU from this"
   ]
  },
  {
   "cell_type": "code",
   "execution_count": 1,
   "id": "0a3a8f26-289f-4dec-a1e2-1ce5c41cdbb2",
   "metadata": {},
   "outputs": [],
   "source": [
    "import requests as req"
   ]
  },
  {
   "cell_type": "code",
   "execution_count": 5,
   "id": "21b234f8-532d-458a-aad8-bb3879daeaef",
   "metadata": {},
   "outputs": [],
   "source": [
    "cities = req.get('https://api.openaq.org/v2/cities', params={\"country\":\"AU\"})"
   ]
  },
  {
   "cell_type": "code",
   "execution_count": 6,
   "id": "9f7b1247-75bd-414c-9984-b6bfc0fdf4ac",
   "metadata": {},
   "outputs": [
    {
     "data": {
      "text/plain": [
       "'https://api.openaq.org/v2/cities?country=AU'"
      ]
     },
     "execution_count": 6,
     "metadata": {},
     "output_type": "execute_result"
    }
   ],
   "source": [
    "cities.url"
   ]
  },
  {
   "cell_type": "code",
   "execution_count": 8,
   "id": "d1658fc5-63e6-40c1-b78d-06d049fad432",
   "metadata": {},
   "outputs": [],
   "source": [
    "cities = cities.json()"
   ]
  },
  {
   "cell_type": "code",
   "execution_count": 16,
   "id": "958ece63-9fe1-4323-8a73-7a7dd96f7b05",
   "metadata": {},
   "outputs": [
    {
     "name": "stdout",
     "output_type": "stream",
     "text": [
      "80\n"
     ]
    }
   ],
   "source": [
    "l = []\n",
    "for i in cities['results']:\n",
    "    l.append(i['city'])\n",
    "print(len(l)) # first method"
   ]
  },
  {
   "cell_type": "code",
   "execution_count": 17,
   "id": "2742240e-804c-457d-869e-d7a0c8406891",
   "metadata": {},
   "outputs": [
    {
     "name": "stdout",
     "output_type": "stream",
     "text": [
      "80\n"
     ]
    }
   ],
   "source": [
    "n = 0\n",
    "for i in cities['results']:\n",
    "    n += 1\n",
    "print(n) # second method "
   ]
  },
  {
   "cell_type": "code",
   "execution_count": 19,
   "id": "4099a0f9-444a-42dd-85df-97b41d9aba94",
   "metadata": {},
   "outputs": [
    {
     "name": "stdout",
     "output_type": "stream",
     "text": [
      "80\n"
     ]
    }
   ],
   "source": [
    "print(len(cities['results'])) # simple and easiest way"
   ]
  },
  {
   "cell_type": "raw",
   "id": "98361579-a473-497c-9456-63aee22703d3",
   "metadata": {},
   "source": [
    "Cities from BE\n",
    "Send Feedback\n",
    "Print first 5 cities from country “BE”. Fetch the result from given URL.\n",
    "Order the results by city.\n",
    "URL - https://api.openaq.org/v1/cities\n",
    "Documentation - https://docs.openaq.org/"
   ]
  },
  {
   "cell_type": "code",
   "execution_count": 21,
   "id": "a1249a18-1a99-4429-9d61-f13711834f15",
   "metadata": {},
   "outputs": [],
   "source": [
    "cities = req.get('https://api.openaq.org/v1/cities', params={'country':\"BE\"})"
   ]
  },
  {
   "cell_type": "code",
   "execution_count": 23,
   "id": "8551da9e-4146-4197-8897-320a15aa77c9",
   "metadata": {},
   "outputs": [
    {
     "data": {
      "text/plain": [
       "'{\"meta\":{\"name\":\"openaq-api\",\"license\":\"CC BY 4.0d\",\"website\":\"api.openaq.org\",\"page\":1,\"limit\":100,\"found\":12},\"results\":[{\"country\":\"BE\",\"name\":\"Antwerpen\",\"city\":\"Antwerpen\",\"count\":855261,\"locations\":24},{\"country\":\"BE\",\"name\":\"Brabant wallon\",\"city\":\"Brabant wallon\",\"count\":90467,\"locations\":1},{\"country\":\"BE\",\"name\":\"Brussels-Capital Region\",\"city\":\"Brussels-Capital Region\",\"count\":545885,\"locations\":11},{\"country\":\"BE\",\"name\":\"Flanders\",\"city\":\"Flanders\",\"count\":10973,\"locations\":6},{\"country\":\"BE\",\"name\":\"Hainaut\",\"city\":\"Hainaut\",\"count\":476225,\"locations\":7},{\"country\":\"BE\",\"name\":\"Liege\",\"city\":\"Liege\",\"count\":491266,\"locations\":8},{\"country\":\"BE\",\"name\":\"Limburg\",\"city\":\"Limburg\",\"count\":146666,\"locations\":5},{\"country\":\"BE\",\"name\":\"Luxembourg\",\"city\":\"Luxembourg\",\"count\":323970,\"locations\":4},{\"country\":\"BE\",\"name\":\"Namur\",\"city\":\"Namur\",\"count\":224274,\"locations\":3},{\"country\":\"BE\",\"name\":\"Oost-Vlaanderen\",\"city\":\"Oost-Vlaanderen\",\"count\":547555,\"locations\":16},{\"country\":\"BE\",\"name\":\"Vlaams-Brabant\",\"city\":\"Vlaams-Brabant\",\"count\":286341,\"locations\":9},{\"country\":\"BE\",\"name\":\"West-Vlaanderen\",\"city\":\"West-Vlaanderen\",\"count\":366952,\"locations\":10}]}'"
      ]
     },
     "execution_count": 23,
     "metadata": {},
     "output_type": "execute_result"
    }
   ],
   "source": [
    "cities.text"
   ]
  },
  {
   "cell_type": "code",
   "execution_count": 24,
   "id": "95a3134a-827e-4c32-98f7-e983c3308006",
   "metadata": {},
   "outputs": [],
   "source": [
    "python = cities.json()"
   ]
  },
  {
   "cell_type": "code",
   "execution_count": 28,
   "id": "342e4d46-f2d9-43b3-a745-e17c4ba2111e",
   "metadata": {},
   "outputs": [],
   "source": [
    "l = []\n",
    "for i in python['results']:\n",
    "    l.append(i['city'])"
   ]
  },
  {
   "cell_type": "code",
   "execution_count": 30,
   "id": "3dce7a3e-3561-4717-b9bb-13e4fa4ad478",
   "metadata": {},
   "outputs": [],
   "source": [
    "l.sort()"
   ]
  },
  {
   "cell_type": "code",
   "execution_count": 31,
   "id": "519b6215-34b0-469b-bbf8-7053e7768a7e",
   "metadata": {},
   "outputs": [
    {
     "data": {
      "text/plain": [
       "['Antwerpen',\n",
       " 'Brabant wallon',\n",
       " 'Brussels-Capital Region',\n",
       " 'Flanders',\n",
       " 'Hainaut',\n",
       " 'Liege',\n",
       " 'Limburg',\n",
       " 'Luxembourg',\n",
       " 'Namur',\n",
       " 'Oost-Vlaanderen',\n",
       " 'Vlaams-Brabant',\n",
       " 'West-Vlaanderen']"
      ]
     },
     "execution_count": 31,
     "metadata": {},
     "output_type": "execute_result"
    }
   ],
   "source": [
    "l"
   ]
  },
  {
   "cell_type": "code",
   "execution_count": 32,
   "id": "45ac1978-0198-408b-a223-61f0ab9ca477",
   "metadata": {},
   "outputs": [
    {
     "name": "stdout",
     "output_type": "stream",
     "text": [
      "Antwerpen\n",
      "Brabant wallon\n",
      "Brussels-Capital Region\n",
      "Flanders\n",
      "Hainaut\n"
     ]
    }
   ],
   "source": [
    "for i in range(0,5):\n",
    "    print(l[i])"
   ]
  },
  {
   "cell_type": "raw",
   "id": "3181bcb1-e533-4e78-aae4-03bf0f1dd311",
   "metadata": {},
   "source": [
    "USA WOEID\n",
    "Send Feedback\n",
    "Make an API call to -\n",
    "https://api.openweathermap.org/data/2.5/weather\n",
    "\n",
    "Search for \"Hyderabad\" and print weather report and Temperature.\n",
    "please go through the document to create your API Key and Print the answer."
   ]
  },
  {
   "cell_type": "raw",
   "id": "5b0e3942-375d-4bde-a1fe-63434c4191b6",
   "metadata": {},
   "source": [
    "https://api.openweathermap.org/data/2.5/weather?lat={lat}&lon={lon}&appid={API key}"
   ]
  },
  {
   "cell_type": "code",
   "execution_count": 61,
   "id": "6cb6e992-d88b-4596-8879-98636c55a89c",
   "metadata": {},
   "outputs": [],
   "source": [
    "hyd = req.get('https://api.openweathermap.org/data/2.5/weather', params={'q':'Hyderabad','appid':'77d450b8aa6e5006adfcd6ce781b481c'})"
   ]
  },
  {
   "cell_type": "code",
   "execution_count": 62,
   "id": "0581ed15-44c8-48da-a849-d1c22f99e1ac",
   "metadata": {},
   "outputs": [
    {
     "data": {
      "text/plain": [
       "200"
      ]
     },
     "execution_count": 62,
     "metadata": {},
     "output_type": "execute_result"
    }
   ],
   "source": [
    "hyd.status_code"
   ]
  },
  {
   "cell_type": "code",
   "execution_count": 63,
   "id": "28be7b76-631a-4f60-a90e-d1041cbc9489",
   "metadata": {},
   "outputs": [
    {
     "data": {
      "text/plain": [
       "'{\"coord\":{\"lon\":78.4744,\"lat\":17.3753},\"weather\":[{\"id\":721,\"main\":\"Haze\",\"description\":\"haze\",\"icon\":\"50d\"}],\"base\":\"stations\",\"main\":{\"temp\":300.38,\"feels_like\":302.79,\"temp_min\":300.38,\"temp_max\":300.88,\"pressure\":1017,\"humidity\":74},\"visibility\":6000,\"wind\":{\"speed\":2.06,\"deg\":0},\"clouds\":{\"all\":40},\"dt\":1666064740,\"sys\":{\"type\":1,\"id\":9214,\"country\":\"IN\",\"sunrise\":1666053579,\"sunset\":1666095760},\"timezone\":19800,\"id\":1269843,\"name\":\"Hyderabad\",\"cod\":200}'"
      ]
     },
     "execution_count": 63,
     "metadata": {},
     "output_type": "execute_result"
    }
   ],
   "source": [
    "hyd.text"
   ]
  },
  {
   "cell_type": "code",
   "execution_count": 65,
   "id": "6405b222-d55f-406e-8963-b32d6140b7a3",
   "metadata": {},
   "outputs": [],
   "source": [
    "python = hyd.json()"
   ]
  },
  {
   "cell_type": "code",
   "execution_count": 77,
   "id": "fc32a665-5685-4e74-be73-f2631a7341ae",
   "metadata": {},
   "outputs": [
    {
     "data": {
      "text/plain": [
       "'Hyderabad'"
      ]
     },
     "execution_count": 77,
     "metadata": {},
     "output_type": "execute_result"
    }
   ],
   "source": [
    "python['name']"
   ]
  },
  {
   "cell_type": "code",
   "execution_count": 79,
   "id": "d3806197-5d78-441c-b6cf-81bdb41f9373",
   "metadata": {},
   "outputs": [
    {
     "data": {
      "text/plain": [
       "dict_keys(['coord', 'weather', 'base', 'main', 'visibility', 'wind', 'clouds', 'dt', 'sys', 'timezone', 'id', 'name', 'cod'])"
      ]
     },
     "execution_count": 79,
     "metadata": {},
     "output_type": "execute_result"
    }
   ],
   "source": [
    "python.keys()"
   ]
  },
  {
   "cell_type": "raw",
   "id": "ea9b9980-22cc-4bb3-9bc5-f751a9a89e19",
   "metadata": {},
   "source": [
    "Holiday\n",
    "Find name of holiday on 2nd October 2021 in country India.\n",
    "You can read the documentation here : https://holidayapi.com/\n",
    "API Link to be used -\n",
    "https://holidayapi.com/v1/holidays"
   ]
  },
  {
   "cell_type": "code",
   "execution_count": 95,
   "id": "d2720780-5661-4988-830b-b0a683366b3b",
   "metadata": {},
   "outputs": [],
   "source": [
    "holiday = req.get('https://holidayapi.com/v1/holidays?pretty&key=5cf58a7a-fc71-4238-b982-a321943c276d&country=IN&year=2021', params={\"year\":2021, \"month\":10, \"day\":2})"
   ]
  },
  {
   "cell_type": "code",
   "execution_count": 96,
   "id": "29a459b7-b2c8-426a-b0aa-c22f1faf1dc4",
   "metadata": {},
   "outputs": [
    {
     "data": {
      "text/plain": [
       "200"
      ]
     },
     "execution_count": 96,
     "metadata": {},
     "output_type": "execute_result"
    }
   ],
   "source": [
    "holiday.status_code"
   ]
  },
  {
   "cell_type": "code",
   "execution_count": 97,
   "id": "f535f2ed-3ff9-40bf-be65-9169e6d079f2",
   "metadata": {},
   "outputs": [],
   "source": [
    "python = holiday.json()"
   ]
  },
  {
   "cell_type": "code",
   "execution_count": 107,
   "id": "86756272-8592-426d-9342-d1670bb35dce",
   "metadata": {},
   "outputs": [
    {
     "name": "stdout",
     "output_type": "stream",
     "text": [
      "Mahatma Gandhi's Birthday\n"
     ]
    }
   ],
   "source": [
    "for i in  python['holidays']:\n",
    "    print(i['name'])"
   ]
  }
 ],
 "metadata": {
  "kernelspec": {
   "display_name": "Python 3 (ipykernel)",
   "language": "python",
   "name": "python3"
  },
  "language_info": {
   "codemirror_mode": {
    "name": "ipython",
    "version": 3
   },
   "file_extension": ".py",
   "mimetype": "text/x-python",
   "name": "python",
   "nbconvert_exporter": "python",
   "pygments_lexer": "ipython3",
   "version": "3.9.12"
  }
 },
 "nbformat": 4,
 "nbformat_minor": 5
}
