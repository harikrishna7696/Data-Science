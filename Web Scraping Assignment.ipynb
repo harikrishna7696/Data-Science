{
 "cells": [
  {
   "cell_type": "markdown",
   "id": "9d184d43",
   "metadata": {},
   "source": [
    "## Print the data of first 3 movies\n",
    "\n",
    "From this link,\n",
    "\n",
    "Find and print the name and genre of the first 3 titles\n",
    "\n",
    "Output Format :\n",
    "title_name_1 ; genre1_1, genre1_2 ..\n",
    "\n",
    "title_name_2 ; genre2_1, genre2_2 ..\n",
    "\n",
    "title_name_2 ; genre3_1, genre3_2 .."
   ]
  },
  {
   "cell_type": "code",
   "execution_count": 61,
   "id": "31196d0b",
   "metadata": {},
   "outputs": [
    {
     "data": {
      "text/plain": [
       "<Response [200]>"
      ]
     },
     "execution_count": 61,
     "metadata": {},
     "output_type": "execute_result"
    }
   ],
   "source": [
    "from bs4 import BeautifulSoup as bs\n",
    "import requests as req\n",
    "\n",
    "url = 'https://www.imdb.com/search/title/?release_date=2018&sort=num_votes,desc&page=1&ref_=adv_nxt'\n",
    "res = req.get(url)\n",
    "res"
   ]
  },
  {
   "cell_type": "code",
   "execution_count": 62,
   "id": "bc3ae069",
   "metadata": {},
   "outputs": [],
   "source": [
    "html = bs(res.text, 'html.parser')\n",
    "data = html.find(class_='lister list detail sub-list')\n",
    "names = data.find_all(class_='lister-item-header')\n",
    "g = data.find_all(class_='genre')\n",
    "names = names[:3]\n",
    "g = g[:3] #extracting from web site"
   ]
  },
  {
   "cell_type": "code",
   "execution_count": 41,
   "id": "078f2040",
   "metadata": {
    "scrolled": true
   },
   "outputs": [
    {
     "data": {
      "text/plain": [
       "[<span class=\"genre\">\n",
       " Action, Adventure, Sci-Fi            </span>,\n",
       " <span class=\"genre\">\n",
       " Action, Adventure, Sci-Fi            </span>,\n",
       " <span class=\"genre\">\n",
       " Action, Adventure, Comedy            </span>]"
      ]
     },
     "execution_count": 41,
     "metadata": {},
     "output_type": "execute_result"
    }
   ],
   "source": [
    "g"
   ]
  },
  {
   "cell_type": "markdown",
   "id": "a35aede6",
   "metadata": {},
   "source": [
    "# final answer"
   ]
  },
  {
   "cell_type": "code",
   "execution_count": 81,
   "id": "93161f6b",
   "metadata": {},
   "outputs": [
    {
     "name": "stdout",
     "output_type": "stream",
     "text": [
      "Avengers: Infinity War;Action, Adventure, Sci-Fi\n",
      "Black Panther;Action, Adventure, Sci-Fi\n",
      "Deadpool 2;Action, Adventure, Comedy\n"
     ]
    }
   ],
   "source": [
    "n = 0\n",
    "while n < 3:\n",
    "    print(names[n].a.string, end=';')\n",
    "    print(g[n].text.strip())\n",
    "    n += 1"
   ]
  },
  {
   "cell_type": "markdown",
   "id": "2ef32378",
   "metadata": {},
   "source": [
    "## titles with most votes\n",
    "\n",
    "\n",
    "Link to use\n",
    "\n",
    "Print the names of movies with highest number of votes from year 2010 to 2014\n",
    "\n",
    "Note : Print the titles line wise starting from year 2010\n",
    "\n",
    "Output Format :\n",
    "\n",
    "title_name_1\n",
    "\n",
    "title_name_2\n",
    "\n",
    "title_name_3\n",
    ".\n",
    "."
   ]
  },
  {
   "cell_type": "code",
   "execution_count": 83,
   "id": "c7e90641",
   "metadata": {},
   "outputs": [
    {
     "name": "stdout",
     "output_type": "stream",
     "text": [
      "https://www.imdb.com/search/title?release_date=2018&sort=num_votes,desc&page=1&ref_=adv_nxt\n"
     ]
    }
   ],
   "source": [
    "url = 'https://www.imdb.com/search/title?release_date=2018&sort=num_votes,desc&page=1&ref_=adv_nxt'\n",
    "print(url)"
   ]
  },
  {
   "cell_type": "code",
   "execution_count": 90,
   "id": "d46065f8",
   "metadata": {},
   "outputs": [
    {
     "name": "stdout",
     "output_type": "stream",
     "text": [
      "https://www.imdb.com/search/title/?release_date=2010-01-01,2014-12-31&sort=num_votes,desc\n"
     ]
    }
   ],
   "source": [
    "res = req.get('https://www.imdb.com/search/title/?release_date=2010-01-01,2014-12-31&sort=num_votes,desc')\n",
    "print(res.url) # just i changed the starting year and ending year"
   ]
  },
  {
   "cell_type": "code",
   "execution_count": 117,
   "id": "cbbad00e",
   "metadata": {},
   "outputs": [
    {
     "name": "stdout",
     "output_type": "stream",
     "text": [
      "Inception\n",
      "Game of Thrones\n",
      "The Dark Knight Rises\n",
      "The Wolf of Wall Street\n",
      "Interstellar\n"
     ]
    }
   ],
   "source": [
    "for i in range(0,5):\n",
    "    url =f'https://www.imdb.com/search/title/?release_date=201{i}-01-01,201{i}-12-31&sort=num_votes,desc&start=1&ref_=adv_nxt'\n",
    "    res = req.get(url)\n",
    "    data = bs(res.text,'html.parser')\n",
    "    print(data.find(class_='lister-item-content').h3.a.text)\n",
    "\n"
   ]
  },
  {
   "cell_type": "markdown",
   "id": "26f19604",
   "metadata": {},
   "source": [
    "\n",
    "# title with maximum duration\n",
    "\n",
    "Out of the first 250 titles with highest number of votes in 2018,\n",
    "find which title has the maximum duration.\n",
    "\n",
    "Output Format :\n",
    "title_name title_duration\n",
    "\n"
   ]
  },
  {
   "cell_type": "code",
   "execution_count": 118,
   "id": "cdb646f3",
   "metadata": {},
   "outputs": [
    {
     "data": {
      "text/plain": [
       "<Response [200]>"
      ]
     },
     "execution_count": 118,
     "metadata": {},
     "output_type": "execute_result"
    }
   ],
   "source": [
    "res =req.get('https://www.imdb.com/search/title/?release_date=2018&sort=num_votes,desc&page=1&ref_=adv_nxt')\n",
    "res"
   ]
  },
  {
   "cell_type": "code",
   "execution_count": 120,
   "id": "514aa612",
   "metadata": {},
   "outputs": [],
   "source": [
    "data = bs(res.text, 'html.parser')"
   ]
  },
  {
   "cell_type": "code",
   "execution_count": 192,
   "id": "4a4a0298",
   "metadata": {},
   "outputs": [],
   "source": [
    "name = data.find_all(class_='lister-item-content')\n",
    "li_names = []\n",
    "for i in name:\n",
    "    li_names.append(i.h3.a.string) # finding names"
   ]
  },
  {
   "cell_type": "code",
   "execution_count": 193,
   "id": "e69ad2cf",
   "metadata": {},
   "outputs": [],
   "source": [
    "dur = data.find_all(class_='runtime')\n",
    "li_dur = []\n",
    "for i in dur:\n",
    "    li_dur.append(int(i.string.split()[0])) # finding duration of the movies"
   ]
  },
  {
   "cell_type": "code",
   "execution_count": 202,
   "id": "6dcafee8",
   "metadata": {},
   "outputs": [],
   "source": [
    " # finding the index of max duration index \n",
    "max_duration = li_dur.index(max(li_dur))\n",
    "duration = li_dur[21] # becuase we append systematic manner so index of movies names and duration are interconnected\n",
    "movie = li_names[21]"
   ]
  },
  {
   "cell_type": "code",
   "execution_count": 203,
   "id": "eb15b588",
   "metadata": {
    "scrolled": true
   },
   "outputs": [
    {
     "name": "stdout",
     "output_type": "stream",
     "text": [
      "The Haunting of Hill House 572\n"
     ]
    }
   ],
   "source": [
    "print(movie, duration)"
   ]
  },
  {
   "cell_type": "markdown",
   "id": "87f3743e",
   "metadata": {},
   "source": [
    "### Image with maximum area\n",
    "\n",
    "From this website :\n",
    "\n",
    "Find and print the src of the <img> tag which occupies the maximum area on the page.\n",
    "Note :\n",
    "\n",
    "Ignore images which doesn't have height or width attributes\n",
    "Output Format :\n",
    "\n",
    "\n",
    "src_of_image"
   ]
  },
  {
   "cell_type": "code",
   "execution_count": 204,
   "id": "2b29e376",
   "metadata": {},
   "outputs": [
    {
     "data": {
      "text/plain": [
       "<Response [200]>"
      ]
     },
     "execution_count": 204,
     "metadata": {},
     "output_type": "execute_result"
    }
   ],
   "source": [
    "res = req.get('https://en.wikipedia.org/wiki/Artificial_intelligence')\n",
    "res"
   ]
  },
  {
   "cell_type": "code",
   "execution_count": 209,
   "id": "b7912a54",
   "metadata": {},
   "outputs": [],
   "source": [
    "data = bs(res.text, 'html.parser')\n",
    "img = data.find_all('img')\n",
    "Images = {}\n",
    "for i in img:\n",
    "    area = float(i['height'])*float(i['width'])\n",
    "    src = i['src']\n",
    "    Images[src]=area"
   ]
  },
  {
   "cell_type": "code",
   "execution_count": 216,
   "id": "2125f192",
   "metadata": {
    "scrolled": true
   },
   "outputs": [
    {
     "name": "stdout",
     "output_type": "stream",
     "text": [
      "//upload.wikimedia.org/wikipedia/commons/6/69/EM_Clustering_of_Old_Faithful_data.gif\n"
     ]
    }
   ],
   "source": [
    "max_val =max(Images, key=Images.get) # find the max key based on values in this area is valueb\n",
    "\n",
    "print(max_val)"
   ]
  },
  {
   "cell_type": "markdown",
   "id": "25e5543b",
   "metadata": {},
   "source": [
    "### Quotes with tag humor\n",
    "Send Feedback\n",
    "Find all the quotes that have the tag as \"humor\" from this website\n",
    "\n",
    "Output Format :\n",
    "\n",
    "quote1\n",
    "\n",
    "quote2\n",
    "\n",
    "quote3"
   ]
  },
  {
   "cell_type": "code",
   "execution_count": 105,
   "id": "ed8ad60a",
   "metadata": {},
   "outputs": [
    {
     "name": "stdout",
     "output_type": "stream",
     "text": [
      "“The person, be it gentleman or lady, who has not pleasure in a good novel, must be intolerably stupid.”\n",
      "“A day without sunshine is like, you know, night.”\n",
      "“Anyone who thinks sitting in church can make you a Christian must also think that sitting in a garage can make you a car.”\n",
      "“Beauty is in the eye of the beholder and it may be necessary from time to time to give a stupid or misinformed beholder a black eye.”\n",
      "“All you need is love. But a little chocolate now and then doesn't hurt.”\n",
      "“Remember, we're madly in love, so it's all right to kiss me anytime you feel like it.”\n",
      "“Some people never go crazy. What truly horrible lives they must lead.”\n",
      "“The trouble with having an open mind, of course, is that people will insist on coming along and trying to put things in it.”\n",
      "“Think left and think right and think low and think high. Oh, the thinks you can think up if only you try!”\n",
      "“The reason I talk to myself is because I’m the only one whose answers I accept.”\n",
      "“I am free of all prejudice. I hate everyone equally. ”\n",
      "“A lady's imagination is very rapid; it jumps from admiration to love, from love to matrimony in a moment.”\n"
     ]
    }
   ],
   "source": [
    "base_url = 'http://quotes.toscrape.com/'\n",
    "ref_url = 'page/1/'\n",
    "res = req.get(base_url+ref_url)\n",
    "while res.status_code == 200:\n",
    "    data = bs(res.text, 'html.parser')\n",
    "    divs = data.find_all(class_='quote')\n",
    "    next_page = data.find(class_='next')\n",
    "    for i in divs:\n",
    "        tags = i.find_all(class_='tag')\n",
    "        for j in tags:\n",
    "            if j.string == 'humor':\n",
    "                print(i.span.string)\n",
    "                break\n",
    "            else:\n",
    "                continue\n",
    "    if next_page is None:\n",
    "        break\n",
    "    ref_url = next_page.a['href']\n",
    "    res = req.get(base_url + ref_url)"
   ]
  },
  {
   "cell_type": "markdown",
   "id": "d8ee0e25",
   "metadata": {},
   "source": [
    "## Print all authors\n",
    "\n",
    "#### Find and print the names of all the different authors from all pages of this website\n",
    "\n",
    "Note : Print the names of all authors line wise sorted in dictionary order"
   ]
  },
  {
   "cell_type": "markdown",
   "id": "c9f9fe5b",
   "metadata": {},
   "source": [
    "# 1st method when we how many pages in web site"
   ]
  },
  {
   "cell_type": "code",
   "execution_count": 51,
   "id": "3894230f",
   "metadata": {
    "scrolled": true
   },
   "outputs": [
    {
     "name": "stdout",
     "output_type": "stream",
     "text": [
      "Albert Einstein\n",
      "Alexandre Dumas fils\n",
      "Alfred Tennyson\n",
      "Allen Saunders\n",
      "André Gide\n",
      "Ayn Rand\n",
      "Bob Marley\n",
      "C.S. Lewis\n",
      "Charles Bukowski\n",
      "Charles M. Schulz\n",
      "Douglas Adams\n",
      "Dr. Seuss\n",
      "E.E. Cummings\n",
      "Eleanor Roosevelt\n",
      "Elie Wiesel\n",
      "Ernest Hemingway\n",
      "Friedrich Nietzsche\n",
      "Garrison Keillor\n",
      "George Bernard Shaw\n",
      "George Carlin\n",
      "George Eliot\n",
      "George R.R. Martin\n",
      "Harper Lee\n",
      "Haruki Murakami\n",
      "Helen Keller\n",
      "J.D. Salinger\n",
      "J.K. Rowling\n",
      "J.M. Barrie\n",
      "J.R.R. Tolkien\n",
      "James Baldwin\n",
      "Jane Austen\n",
      "Jim Henson\n",
      "Jimi Hendrix\n",
      "John Lennon\n",
      "Jorge Luis Borges\n",
      "Khaled Hosseini\n",
      "Madeleine L'Engle\n",
      "Marilyn Monroe\n",
      "Mark Twain\n",
      "Martin Luther King Jr.\n",
      "Mother Teresa\n",
      "Pablo Neruda\n",
      "Ralph Waldo Emerson\n",
      "Stephenie Meyer\n",
      "Steve Martin\n",
      "Suzanne Collins\n",
      "Terry Pratchett\n",
      "Thomas A. Edison\n",
      "W.C. Fields\n",
      "William Nicholson\n"
     ]
    }
   ],
   "source": [
    "import requests as req\n",
    "from bs4 import BeautifulSoup as bs\n",
    "auth = []\n",
    "for i in range(1, 11):\n",
    "    res = req.get(f'http://quotes.toscrape.com/page/{i}/')\n",
    "    data = bs(res.text, 'html.parser')\n",
    "    authors = data.find_all(class_='author')\n",
    "    for i in authors:\n",
    "        a = i.string\n",
    "        if a in auth:\n",
    "            continue\n",
    "        else:\n",
    "            auth.append(a)\n",
    "for i in sorted(auth):\n",
    "    print(i)"
   ]
  },
  {
   "cell_type": "markdown",
   "id": "e8447e52",
   "metadata": {},
   "source": [
    "# 2nd Method if we don't know about pages"
   ]
  },
  {
   "cell_type": "code",
   "execution_count": 58,
   "id": "83d16a52",
   "metadata": {
    "scrolled": true
   },
   "outputs": [
    {
     "name": "stdout",
     "output_type": "stream",
     "text": [
      "Albert Einstein\n",
      "J.K. Rowling\n",
      "Jane Austen\n",
      "Marilyn Monroe\n",
      "André Gide\n",
      "Thomas A. Edison\n",
      "Eleanor Roosevelt\n",
      "Steve Martin\n",
      "Bob Marley\n",
      "Dr. Seuss\n",
      "Douglas Adams\n",
      "Elie Wiesel\n",
      "Friedrich Nietzsche\n",
      "Mark Twain\n",
      "Allen Saunders\n",
      "Pablo Neruda\n",
      "Ralph Waldo Emerson\n",
      "Mother Teresa\n",
      "Garrison Keillor\n",
      "Jim Henson\n",
      "Charles M. Schulz\n",
      "William Nicholson\n",
      "Jorge Luis Borges\n",
      "George Eliot\n",
      "George R.R. Martin\n",
      "C.S. Lewis\n",
      "Martin Luther King Jr.\n",
      "James Baldwin\n",
      "Haruki Murakami\n",
      "Alexandre Dumas fils\n",
      "Stephenie Meyer\n",
      "Ernest Hemingway\n",
      "Helen Keller\n",
      "George Bernard Shaw\n",
      "Charles Bukowski\n",
      "Suzanne Collins\n",
      "J.R.R. Tolkien\n",
      "Alfred Tennyson\n",
      "Terry Pratchett\n",
      "J.D. Salinger\n",
      "George Carlin\n",
      "John Lennon\n",
      "W.C. Fields\n",
      "Ayn Rand\n",
      "Jimi Hendrix\n",
      "J.M. Barrie\n",
      "E.E. Cummings\n",
      "Khaled Hosseini\n",
      "Harper Lee\n",
      "Madeleine L'Engle\n"
     ]
    }
   ],
   "source": [
    "base_url = 'http://quotes.toscrape.com/'\n",
    "ref_url = 'page/1/'\n",
    "auth1 = []\n",
    "res = req.get(base_url+ref_url)\n",
    "while res.status_code == 200:\n",
    "    data = bs(res.text, 'html.parser')\n",
    "    next_page = data.find(class_='next')\n",
    "    authors = data.find_all(class_='author') \n",
    "    for i in authors:\n",
    "        a = i.string\n",
    "        if a in auth1:\n",
    "            continue\n",
    "        else:\n",
    "            auth1.append(a)\n",
    "    if next_page is None:\n",
    "        break\n",
    "    ref_url = next_page.a['href']\n",
    "    res = req.get(base_url+ref_url)\n",
    "for i in auth1:\n",
    "    print(i)"
   ]
  },
  {
   "cell_type": "code",
   "execution_count": 41,
   "id": "165cb7fe",
   "metadata": {},
   "outputs": [
    {
     "data": {
      "text/plain": [
       "'/page/2/'"
      ]
     },
     "execution_count": 41,
     "metadata": {},
     "output_type": "execute_result"
    }
   ],
   "source": [
    "res = req.get('http://quotes.toscrape.com/page/1/')\n",
    "data = bs(res.text, 'html.parser')\n",
    "next_page = data.find(class_='next')\n",
    "next_page.a['href']#finding the next page link sample"
   ]
  },
  {
   "cell_type": "markdown",
   "id": "5966f50d",
   "metadata": {},
   "source": [
    "### Birth Date of authors\n",
    "\n",
    "\n",
    "Find the birth date of authors whose name start with 'J' from this website\n",
    "\n",
    "Note : Print a dictionary containing the name as key and the birth date as value.The Names of authors should be alphabetically sorted.\n",
    "\n",
    "Output Format :\n",
    "{'author_1': 'month day, year', 'author_2': 'month day, year', ....}\n"
   ]
  },
  {
   "cell_type": "code",
   "execution_count": 64,
   "id": "d8e28281",
   "metadata": {},
   "outputs": [
    {
     "name": "stdout",
     "output_type": "stream",
     "text": [
      "{'J.D. Salinger': 'January 01, 1919', 'J.K. Rowling': 'July 31, 1965', 'J.M. Barrie': 'May 09, 1860', 'J.R.R. Tolkien': 'January 03, 1892', 'James Baldwin': 'August 02, 1924', 'Jane Austen': 'December 16, 1775', 'Jim Henson': 'September 24, 1936', 'Jimi Hendrix': 'November 27, 1942', 'John Lennon': 'October 09, 1940', 'Jorge Luis Borges': 'August 24, 1899'}\n"
     ]
    }
   ],
   "source": [
    "authors = {}\n",
    "for i in range(1,11):\n",
    "    response = req.get(f'http://quotes.toscrape.com/page/{i}/')\n",
    "    data = bs(response.text, 'html.parser')\n",
    "    for aut in data.select('.author') :\n",
    "        if aut.text[0] == 'J':\n",
    "            authors[aut.text] = aut.next_sibling.next_sibling['href']\n",
    "bdate ={}\n",
    "for author in sorted(authors) :\n",
    "    page = req.get('http://quotes.toscrape.com'+ authors[author])\n",
    "    data = bs(page.text, 'html.parser')\n",
    "    for i in data.select('.author-born-date'):\n",
    "        bdate[author] = i.text\n",
    "print(bdate)\n"
   ]
  },
  {
   "cell_type": "markdown",
   "id": "ddb21da2",
   "metadata": {},
   "source": [
    "## Quotes by Albert Einstein\n",
    "\n",
    "Find all the quotes by Albert Einstein(in the order they appear on the page) from this website\n",
    "Note : Fetch data from all the pages.\n",
    "\n",
    "Output Format :\n",
    "\n",
    "quote1\n",
    "\n",
    "quote2\n",
    "\n",
    "quote3\n"
   ]
  },
  {
   "cell_type": "code",
   "execution_count": 16,
   "id": "87ea7840",
   "metadata": {},
   "outputs": [],
   "source": [
    "# res = req.get('http://quotes.toscrape.com/page/1/')\n",
    "# data = bs(res.text, 'html.parser')\n",
    "# authors = data.find_all(class_='author')\n",
    "# auth = []\n",
    "# for i in authors:  finding the first page\n",
    "#     a = i.string\n",
    "#     if a in auth:\n",
    "#         continue\n",
    "#     else:\n",
    "#         auth.append(a)"
   ]
  },
  {
   "cell_type": "code",
   "execution_count": 10,
   "id": "04789aa7",
   "metadata": {
    "scrolled": true
   },
   "outputs": [
    {
     "data": {
      "text/plain": [
       "['Albert Einstein',\n",
       " 'J.K. Rowling',\n",
       " 'Jane Austen',\n",
       " 'Marilyn Monroe',\n",
       " 'André Gide',\n",
       " 'Thomas A. Edison',\n",
       " 'Eleanor Roosevelt',\n",
       " 'Steve Martin']"
      ]
     },
     "execution_count": 10,
     "metadata": {},
     "output_type": "execute_result"
    }
   ],
   "source": [
    "auth"
   ]
  },
  {
   "cell_type": "code",
   "execution_count": 74,
   "id": "e4ce441b",
   "metadata": {
    "scrolled": true
   },
   "outputs": [
    {
     "name": "stdout",
     "output_type": "stream",
     "text": [
      "“The world as we have created it is a process of our thinking. It cannot be changed without changing our thinking.”\n",
      "“There are only two ways to live your life. One is as though nothing is a miracle. The other is as though everything is a miracle.”\n",
      "“Try not to become a man of success. Rather become a man of value.”\n",
      "“If you can't explain it to a six year old, you don't understand it yourself.”\n",
      "“If you want your children to be intelligent, read them fairy tales. If you want them to be more intelligent, read them more fairy tales.”\n",
      "“Logic will get you from A to Z; imagination will get you everywhere.”\n",
      "“Any fool can know. The point is to understand.”\n",
      "“Life is like riding a bicycle. To keep your balance, you must keep moving.”\n",
      "“If I were not a physicist, I would probably be a musician. I often think in music. I live my daydreams in music. I see my life in terms of music.”\n",
      "“Anyone who has never made a mistake has never tried anything new.”\n"
     ]
    }
   ],
   "source": [
    "for i in range(1, 11):\n",
    "    res = req.get(f'http://quotes.toscrape.com/page/{i}/')\n",
    "    # data = bs(res.text, 'html.parser')\n",
    "    data = bs(res.content)\n",
    "    author = data.find_all(class_='quote')\n",
    "    for i in author:\n",
    "        a = i.span.next_element\n",
    "        b = a.next_element.next_element.text.strip().split('\\n')[0].split('by')[-1].strip()\n",
    "        if b == 'Albert Einstein':\n",
    "            print(a.text)\n",
    "#     if a == 'Albert-Einstein':\n",
    "#         print(a.text)\n",
    "#     else:\n",
    "#         continue"
   ]
  },
  {
   "cell_type": "code",
   "execution_count": 56,
   "id": "2a354eb4",
   "metadata": {},
   "outputs": [],
   "source": [
    "a = author.span.next_element\n",
    "b = a.next_element.next_element.text.strip().split('\\n')[0].split('by')[-1].strip()"
   ]
  },
  {
   "cell_type": "code",
   "execution_count": 59,
   "id": "5c04496e",
   "metadata": {},
   "outputs": [
    {
     "name": "stdout",
     "output_type": "stream",
     "text": [
      "“The world as we have created it is a process of our thinking. It cannot be changed without changing our thinking.”\n"
     ]
    }
   ],
   "source": [
    "if b == 'Albert Einstein':\n",
    "    print(a.text)"
   ]
  },
  {
   "cell_type": "markdown",
   "id": "da2fdb00",
   "metadata": {},
   "source": [
    "# All Categories\n",
    "Print the name of all categories which are present this website.\n",
    "\n",
    "Output Format :\n",
    "\n",
    "Category1 Name\n",
    "\n",
    "Category2 Name\n",
    "\n",
    "Category3 Name"
   ]
  },
  {
   "cell_type": "code",
   "execution_count": 22,
   "id": "fc76958a",
   "metadata": {},
   "outputs": [
    {
     "name": "stdout",
     "output_type": "stream",
     "text": [
      "Travel\n",
      "Mystery\n",
      "Historical Fiction\n",
      "Sequential Art\n",
      "Classics\n",
      "Philosophy\n",
      "Romance\n",
      "Womens Fiction\n",
      "Fiction\n",
      "Childrens\n",
      "Religion\n",
      "Nonfiction\n",
      "Music\n",
      "Default\n",
      "Science Fiction\n",
      "Sports and Games\n",
      "Add a comment\n",
      "Fantasy\n",
      "New Adult\n",
      "Young Adult\n",
      "Science\n",
      "Poetry\n",
      "Paranormal\n",
      "Art\n",
      "Psychology\n",
      "Autobiography\n",
      "Parenting\n",
      "Adult Fiction\n",
      "Humor\n",
      "Horror\n",
      "History\n",
      "Food and Drink\n",
      "Christian Fiction\n",
      "Business\n",
      "Biography\n",
      "Thriller\n",
      "Contemporary\n",
      "Spirituality\n",
      "Academic\n",
      "Self Help\n",
      "Historical\n",
      "Christian\n",
      "Suspense\n",
      "Short Stories\n",
      "Novels\n",
      "Health\n",
      "Politics\n",
      "Cultural\n",
      "Erotica\n",
      "Crime\n"
     ]
    }
   ],
   "source": [
    "from bs4 import BeautifulSoup as bs\n",
    "import requests as req\n",
    "res = req.get('http://books.toscrape.com/')\n",
    "data = bs(res.text, 'html.parser')\n",
    "cat = data.find(class_='nav-list').find_all('li')[1:]\n",
    "for i in cat:\n",
    "    print(i.a.string.strip())"
   ]
  },
  {
   "cell_type": "markdown",
   "id": "de6ec346",
   "metadata": {},
   "source": [
    "First 5 Blogs\n",
    "\n",
    "Print the title of the first 5 blogs written by Coding Ninjas\n",
    "\n",
    "Note : Print the blog names line wise\n",
    "\n",
    "Output Format :\n",
    "\n",
    "blog_name_1\n",
    "\n",
    "blog_name_2\n",
    "\n",
    "blog_name_3"
   ]
  },
  {
   "cell_type": "code",
   "execution_count": 23,
   "id": "b3f9b75a",
   "metadata": {},
   "outputs": [
    {
     "data": {
      "text/plain": [
       "<Response [200]>"
      ]
     },
     "execution_count": 23,
     "metadata": {},
     "output_type": "execute_result"
    }
   ],
   "source": [
    "res = req.get('https://medium.com/codingninjas-blog')\n",
    "res"
   ]
  },
  {
   "cell_type": "code",
   "execution_count": 28,
   "id": "e4a9a03b",
   "metadata": {},
   "outputs": [
    {
     "name": "stdout",
     "output_type": "stream",
     "text": [
      "Web Development Trends to watch out for in 2020\n",
      "Web Development: Interviews and You!\n",
      "Get equipped for the Technical Interviews\n",
      "Explore more about the projects in Web Development\n",
      "5G to be a major gamechanger for Edu-tech platforms\n"
     ]
    }
   ],
   "source": [
    "data = bs(res.text, 'html.parser')\n",
    "h3 = data.find_all('h3')[:5]\n",
    "for i in h3:\n",
    "    print(i.text)"
   ]
  }
 ],
 "metadata": {
  "kernelspec": {
   "display_name": "Python 3 (ipykernel)",
   "language": "python",
   "name": "python3"
  },
  "language_info": {
   "codemirror_mode": {
    "name": "ipython",
    "version": 3
   },
   "file_extension": ".py",
   "mimetype": "text/x-python",
   "name": "python",
   "nbconvert_exporter": "python",
   "pygments_lexer": "ipython3",
   "version": "3.9.7"
  }
 },
 "nbformat": 4,
 "nbformat_minor": 5
}
